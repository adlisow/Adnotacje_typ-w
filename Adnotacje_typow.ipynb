{
 "cells": [
  {
   "cell_type": "code",
   "execution_count": 31,
   "id": "0a9a64d5-44ee-4c0e-9497-ab336a56be01",
   "metadata": {},
   "outputs": [],
   "source": [
    "# https://realpython.com/python-type-checking/#annotations\n",
    "# https://mypy.readthedocs.io/en/stable/cheat_sheet_py3.html"
   ]
  },
  {
   "cell_type": "markdown",
   "id": "f0d910ee-95af-4639-ada5-6f85d0b87aaa",
   "metadata": {},
   "source": [
    "# Adnotacje typów"
   ]
  },
  {
   "cell_type": "markdown",
   "id": "62308661-c4b1-4f7d-a72d-3e943241c207",
   "metadata": {},
   "source": [
    "## Type Systems"
   ]
  },
  {
   "cell_type": "markdown",
   "id": "184502d9-2882-401b-bd8c-dc24ca2fa5a7",
   "metadata": {},
   "source": [
    "Wszystkie języki programowania mają wbudowany pewien system typów, który formalizuje, z jakimi kategoriami obiektów język może pracować i jak te kategorie są traktowane. Przykładowo system typów może zdefiniować typ numeryczny, w którym liczba 7 jest przykładem obiektu tego typu."
   ]
  },
  {
   "cell_type": "markdown",
   "id": "81460499-9e88-4a1d-89b8-08a9f738919b",
   "metadata": {},
   "source": [
    "### Static Typing "
   ]
  },
  {
   "cell_type": "markdown",
   "id": "515027ef-58fe-4363-9fa4-daf5df76587f",
   "metadata": {},
   "source": [
    "- Sprawdzenie typów wykonywane jest bez uruchamiania programu\n",
    "\n",
    "- Najczęściej odbywa się podczas kompilacji programu \n",
    "\n",
    "- np. C, Java"
   ]
  },
  {
   "cell_type": "markdown",
   "id": "9bcc5459-d43b-40ea-8699-531d5309605f",
   "metadata": {},
   "source": [
    "------"
   ]
  },
  {
   "cell_type": "markdown",
   "id": "d93a0256-016a-4c3d-b110-3b9b77862a9a",
   "metadata": {},
   "source": [
    "Przykładowa deklaracja zmiennmych w języku Java:"
   ]
  },
  {
   "cell_type": "markdown",
   "id": "07300e5f-6f66-4096-b8d5-27378ef16ff8",
   "metadata": {},
   "source": [
    "String thing;\n",
    "\n",
    "thing = \"Hello\";"
   ]
  },
  {
   "cell_type": "markdown",
   "id": "dfc6ff00-9772-48a8-b4c6-5352534d6b9b",
   "metadata": {},
   "source": [
    "Po deklaracji nie możemy już zmienić typu zmiennej thing."
   ]
  },
  {
   "cell_type": "markdown",
   "id": "34a0d0b0-b167-4da2-bd89-502f2d6dcd08",
   "metadata": {},
   "source": [
    "### Dynamic Typing"
   ]
  },
  {
   "cell_type": "markdown",
   "id": "91a4ae96-9d26-40ec-946a-562218bc213f",
   "metadata": {},
   "source": [
    "Python jest językiem dynamicznie typowanym. Oznacza to, że interpreter Pythona sprawdza typy tylko w czasie wykonywania kodu, a typ zmiennej może się zmieniać w trakcie jej życia."
   ]
  },
  {
   "cell_type": "code",
   "execution_count": 2,
   "id": "7a4a18fd-1992-4057-9f4e-d9ccc89475c4",
   "metadata": {},
   "outputs": [],
   "source": [
    "if False:\n",
    "     1 + \"two\"  # <- Nie zostanie uruchomiona, więc nie będzie błędu TypeError \n",
    "else:\n",
    "     1 + 2"
   ]
  },
  {
   "cell_type": "code",
   "execution_count": 3,
   "id": "d7de24ab-2e1e-40ff-8c74-3c85bb09746f",
   "metadata": {
    "lines_to_next_cell": 2
   },
   "outputs": [
    {
     "ename": "TypeError",
     "evalue": "unsupported operand type(s) for +: 'int' and 'str'",
     "output_type": "error",
     "traceback": [
      "\u001b[1;31m---------------------------------------------------------------------------\u001b[0m",
      "\u001b[1;31mTypeError\u001b[0m                                 Traceback (most recent call last)",
      "Cell \u001b[1;32mIn[3], line 1\u001b[0m\n\u001b[1;32m----> 1\u001b[0m \u001b[38;5;241;43m1\u001b[39;49m\u001b[43m \u001b[49m\u001b[38;5;241;43m+\u001b[39;49m\u001b[43m \u001b[49m\u001b[38;5;124;43m\"\u001b[39;49m\u001b[38;5;124;43mtwo\u001b[39;49m\u001b[38;5;124;43m\"\u001b[39;49m  \n\u001b[0;32m      3\u001b[0m \u001b[38;5;66;03m# Dostajemy TypeError spowodowany niezgodnością typów\u001b[39;00m\n",
      "\u001b[1;31mTypeError\u001b[0m: unsupported operand type(s) for +: 'int' and 'str'"
     ]
    }
   ],
   "source": [
    "1 + \"two\"  \n",
    "\n",
    "# Dostajemy TypeError spowodowany niezgodnością typów"
   ]
  },
  {
   "cell_type": "markdown",
   "id": "c4763b23-b0f4-485a-bcb7-674a311734a2",
   "metadata": {},
   "source": [
    "Możemy swobodnie zmieniać typy zmiennych"
   ]
  },
  {
   "cell_type": "code",
   "execution_count": 10,
   "id": "fb226b16-075f-4038-a398-8fbe34a0fdd7",
   "metadata": {},
   "outputs": [
    {
     "name": "stdout",
     "output_type": "stream",
     "text": [
      "<class 'str'>\n",
      "<class 'float'>\n",
      "<class 'int'>\n"
     ]
    }
   ],
   "source": [
    "thing = \"Hello\"\n",
    "print(type(thing))\n",
    "\n",
    "thing = 28.1\n",
    "print(type(thing))\n",
    "\n",
    "thing = int(thing)\n",
    "print(type(thing))"
   ]
  },
  {
   "cell_type": "markdown",
   "id": "26dddc20-947d-47a7-aba2-b6e7db50f768",
   "metadata": {},
   "source": [
    "### Duck Typing"
   ]
  },
  {
   "cell_type": "markdown",
   "id": "e398b481-7aa5-4000-a5c7-af85f52803d6",
   "metadata": {},
   "source": [
    "Mniej istotne jest, jakiego dokładnie typu jest obiekt; kluczowe jest, aby miał wymagane metody lub atrybuty, które pozwalają na wykonanie konkretnej operacji."
   ]
  },
  {
   "cell_type": "markdown",
   "id": "6efe82d9-81f1-4d3c-ba08-4ae195d0fa56",
   "metadata": {},
   "source": [
    "Przykładowo wywołajmy funkcję len() na dowolnym obiekcie który definiuje metodę .\\_\\_len__() "
   ]
  },
  {
   "cell_type": "code",
   "execution_count": 12,
   "id": "aaecd69d-c08c-42be-ad6b-57714dec3533",
   "metadata": {},
   "outputs": [
    {
     "data": {
      "text/plain": [
       "120"
      ]
     },
     "execution_count": 12,
     "metadata": {},
     "output_type": "execute_result"
    }
   ],
   "source": [
    "class Gnome:\n",
    "    def __len__(self):\n",
    "        return 120\n",
    "\n",
    "krasnal = Gnome()\n",
    "len(krasnal)"
   ]
  },
  {
   "cell_type": "code",
   "execution_count": 9,
   "id": "22a1761d-4d1a-42d2-a91b-fb07f74ea131",
   "metadata": {},
   "outputs": [],
   "source": [
    "def len(obj):           \n",
    "    return obj.__len__()\n",
    "    \n",
    "# Implementacja funkcji len() w pythonie (mniej więcej)"
   ]
  },
  {
   "cell_type": "markdown",
   "id": "e418982c-6197-4f70-b7d3-9d027451ea5e",
   "metadata": {},
   "source": [
    "## Hello Types"
   ]
  },
  {
   "cell_type": "markdown",
   "id": "3536dfbf-fbd7-4685-ba81-cfbfd57137b2",
   "metadata": {},
   "source": [
    "Możemy dać informację na temat typów w funkcji (w dziedzinie i przeciwdziedzinie), nie wpłynie to na same działanie kodu, lecz pozostawia klarowność i umożliwia późniejszą weryfikację zgodności typów np. przy użyciu biblioteki mypy lub wbudowanemu w IDE edytora.\n",
    "\n",
    "Mypy sprawdza czy typy argumentów są zgodne z oczekiwanymi i nas o tym informuje."
   ]
  },
  {
   "cell_type": "code",
   "execution_count": 11,
   "id": "26c1c469-a831-4171-8792-7e27816db21f",
   "metadata": {},
   "outputs": [],
   "source": [
    "def headline(text: str, align: bool = True) -> str:\n",
    "    ..."
   ]
  },
  {
   "cell_type": "code",
   "execution_count": 1,
   "id": "323f047d-1592-485f-b0c6-b057b03c2267",
   "metadata": {
    "scrolled": true
   },
   "outputs": [],
   "source": [
    "# !pip install mypy"
   ]
  },
  {
   "cell_type": "code",
   "execution_count": 17,
   "id": "37469b6b-02a3-4afc-90a0-c9a5d143ad67",
   "metadata": {},
   "outputs": [
    {
     "name": "stdout",
     "output_type": "stream",
     "text": [
      "Python Type Checking\n",
      "--------------------\n",
      "Use Mypy\n",
      "--------\n"
     ]
    }
   ],
   "source": [
    "# headlines.py\n",
    "\n",
    "\n",
    "def headline(text: str, align: bool = True) -> str:\n",
    "    if align:\n",
    "        return f\"{text.title()}\\n{'-' * len(text)}\"\n",
    "    else:\n",
    "        return f\" {text.title()} \".center(50, \"o\")\n",
    "\n",
    "\n",
    "print(headline(\"python type checking\"))\n",
    "\n",
    "print(headline(\"use mypy\", align=\"center\"))    # Tutaj użyliśmy złego typu, mypy nam to wykryje"
   ]
  },
  {
   "cell_type": "code",
   "execution_count": 18,
   "id": "3022396f-e3af-4306-9261-651a86fedc9b",
   "metadata": {},
   "outputs": [
    {
     "name": "stdout",
     "output_type": "stream",
     "text": [
      "headlines.py:14: \u001b[1m\u001b[91merror:\u001b[0m Argument \u001b[0m\u001b[1m\"align\"\u001b[0m to \u001b[0m\u001b[1m\"headline\"\u001b[0m has incompatible type \u001b[0m\u001b[1m\"str\"\u001b[0m; expected \u001b[0m\u001b[1m\"bool\"\u001b[0m  \u001b[0m\u001b[93m[arg-type]\u001b[0m\n",
      "\u001b[1m\u001b[91mFound 1 error in 1 file (checked 1 source file)\u001b[0m\n"
     ]
    }
   ],
   "source": [
    "!mypy headlines.py"
   ]
  },
  {
   "cell_type": "markdown",
   "id": "1526470a-d817-40a8-b4a9-bf8bf3111353",
   "metadata": {},
   "source": [
    "----------"
   ]
  },
  {
   "cell_type": "markdown",
   "id": "afa34a64-8029-4c59-b945-85b1f8a083ad",
   "metadata": {},
   "source": [
    "Po zmianie align na typ oczekiwany, czyli bool, mypy zwróci nam, że wszystko przebiegło pomyślnie.\n",
    "\n",
    "Success: no issues found in 1 source file"
   ]
  },
  {
   "cell_type": "markdown",
   "id": "f53e6459-9b3e-4c3f-96c2-81cf061c2f0b",
   "metadata": {},
   "source": [
    "## Wady i zalety adnotacji typów"
   ]
  },
  {
   "cell_type": "markdown",
   "id": "8365be9d-836d-4832-add8-875996772d65",
   "metadata": {},
   "source": [
    "### Korzyści:"
   ]
  },
  {
   "cell_type": "markdown",
   "id": "bbb5ce6f-9960-4d95-b555-c8703f7db443",
   "metadata": {},
   "source": [
    "1. Lepsza dokumentacja kodu (docstringów i komentarzy nie użyjemy tak łatwo do automatycznej weryfikacji typów)\n",
    "\n",
    "2. Wsparcie narzędzi programistycznych (IDE mogą lepiej analizować kod)\n",
    "\n",
    "3. Poprawa architektury kodu\n",
    "\n",
    "4. Ułatwienie pracy innym programistom"
   ]
  },
  {
   "cell_type": "markdown",
   "id": "35f1f7e3-5b4b-4afb-9492-3e1c95d7dfcd",
   "metadata": {},
   "source": [
    "### Wady:"
   ]
  },
  {
   "cell_type": "markdown",
   "id": "92f716f7-d0c8-481d-ac5f-70ea1d1d1ac8",
   "metadata": {},
   "source": [
    "1. Dodatkowy czas i wysiłek (więcej kodu kosztem krótszemu czasu debugowania)\n",
    "\n",
    "2. Kompatybilność (adnotacje typów znacznie lepiej funkcjonują na nowszych wersjach pythona)\n",
    "\n",
    "3. Spowolnienie uruchomienia (importowanie modułu typing może nieco wydłużyć czas startu szczególnie w krótkich skryptach)"
   ]
  },
  {
   "cell_type": "markdown",
   "id": "887436da-787f-4bab-bff1-03b308d236b5",
   "metadata": {},
   "source": [
    "### Kiedy stosować?"
   ]
  },
  {
   "cell_type": "markdown",
   "id": "19ec8e88-c246-4011-ac0a-cd3e5b970922",
   "metadata": {},
   "source": [
    "- Dla krótkich skryptów: Adnotacje typów mogą być zbędne w prostych skryptach, które szybko się wyrzuca.\n",
    "\n",
    "- Dla bibliotek: W bibliotekach przeznaczonych dla innych użytkowników adnotacje są bardzo wartościowe, szczególnie w projektach publikowanych w PyPI.\n",
    "\n",
    "- Dla większych projektów: Typowanie jest zalecane, zwłaszcza w projektach zespołowych.\n",
    "\n",
    "- Dobrze jest dodawać je również tam, gdzie warto pisać testy jednostkowe. Tak jak testy, adnotacje typów pomagają pisać lepszy kod.\n",
    "\n",
    "- Statyczne sprawdzanie typów w Pythonie może znacznie uprościć rozwój i konserwację kodu, szczególnie w połączeniu z narzędziem takim jak mypy.\n"
   ]
  },
  {
   "cell_type": "markdown",
   "id": "e3c7be43-2f2b-4a32-a8b4-41c7f3a8efe2",
   "metadata": {},
   "source": [
    "## Adnotacje"
   ]
  },
  {
   "cell_type": "markdown",
   "id": "ad326b6f-3870-4069-a817-28fd385a68b3",
   "metadata": {},
   "source": [
    "Wprowadzone w Pythonie 3.0, początkowo bez przypisanej funkcji, umożliwiały kojarzenie wyrażeń z argumentami funkcji i wartościami zwracanymi.\n",
    "\n",
    "W późniejszych wersjach, dzięki PEP 484, adnotacje zaczęły pełnić rolę wskazówek typów, głównie poprzez projekt mypy autorstwa Jukki Lehtosalo. Dziś adnotacje są standardem dla wskazywania typów."
   ]
  },
  {
   "cell_type": "markdown",
   "id": "0641315c-2780-4d7a-815e-8d3164476f20",
   "metadata": {},
   "source": [
    "### Adnotacje Funkcji"
   ]
  },
  {
   "cell_type": "markdown",
   "id": "b14629e6-e422-4747-8710-1d262d9eec60",
   "metadata": {},
   "source": [
    "Prosty wzorzec funkcji z adnotacjami typów:"
   ]
  },
  {
   "cell_type": "code",
   "execution_count": null,
   "id": "98101528-a19e-4788-bd29-92e21a78bbac",
   "metadata": {},
   "outputs": [],
   "source": [
    "def func(arg: arg_type, optional_arg: arg_type = default) -> return_type:\n",
    "    ...\n",
    "\n"
   ]
  },
  {
   "cell_type": "code",
   "execution_count": 5,
   "id": "4f8a68e1-2d9a-4527-a9f1-2aa66143d1af",
   "metadata": {},
   "outputs": [],
   "source": [
    "import math\n",
    "\n",
    "def circumference(radius: float) -> float:\n",
    "    return 2 * math.pi * radius\n",
    "\n"
   ]
  },
  {
   "cell_type": "code",
   "execution_count": 6,
   "id": "6a2feca7-0a5b-4f53-9727-dea47f8e22b9",
   "metadata": {},
   "outputs": [
    {
     "data": {
      "text/plain": [
       "7.728317927830891"
      ]
     },
     "execution_count": 6,
     "metadata": {},
     "output_type": "execute_result"
    }
   ],
   "source": [
    "circumference(1.23)"
   ]
  },
  {
   "cell_type": "markdown",
   "id": "93eb1495-e3f7-4685-8890-40023bbe9618",
   "metadata": {},
   "source": [
    "**\\_\\_annotations\\_\\_**  jest słownikiem przechowującym nasze adnotacje typów w postaci {\"nazwa zmiennej\": typ} na poziomie modułu pythona"
   ]
  },
  {
   "cell_type": "code",
   "execution_count": 16,
   "id": "3b64c9ff-2de2-4e24-8980-4b7733904218",
   "metadata": {},
   "outputs": [
    {
     "data": {
      "text/plain": [
       "{'radius': float, 'return': float}"
      ]
     },
     "execution_count": 16,
     "metadata": {},
     "output_type": "execute_result"
    }
   ],
   "source": [
    "circumference.__annotations__\n",
    "\n",
    "# Tutaj przechowywane są typy argumentów i zwracanej wartości funkcji circumference"
   ]
  },
  {
   "cell_type": "markdown",
   "id": "4e4ca491-4d61-4583-8df9-c96e532a4f08",
   "metadata": {},
   "source": [
    "---------"
   ]
  },
  {
   "cell_type": "code",
   "execution_count": 8,
   "id": "ddfce3af-24ba-4442-92b5-7a98c02f223a",
   "metadata": {},
   "outputs": [
    {
     "ename": "NameError",
     "evalue": "name 'reveal_type' is not defined",
     "output_type": "error",
     "traceback": [
      "\u001b[1;31m---------------------------------------------------------------------------\u001b[0m",
      "\u001b[1;31mNameError\u001b[0m                                 Traceback (most recent call last)",
      "Cell \u001b[1;32mIn[8], line 6\u001b[0m\n\u001b[0;32m      1\u001b[0m \u001b[38;5;66;03m# reveal.py\u001b[39;00m\n\u001b[0;32m      4\u001b[0m \u001b[38;5;28;01mimport\u001b[39;00m \u001b[38;5;21;01mmath\u001b[39;00m\n\u001b[1;32m----> 6\u001b[0m \u001b[43mreveal_type\u001b[49m(math\u001b[38;5;241m.\u001b[39mpi)\n\u001b[0;32m      9\u001b[0m radius \u001b[38;5;241m=\u001b[39m \u001b[38;5;241m1\u001b[39m\n\u001b[0;32m     11\u001b[0m circumference \u001b[38;5;241m=\u001b[39m \u001b[38;5;241m2\u001b[39m \u001b[38;5;241m*\u001b[39m math\u001b[38;5;241m.\u001b[39mpi \u001b[38;5;241m*\u001b[39m radius\n",
      "\u001b[1;31mNameError\u001b[0m: name 'reveal_type' is not defined"
     ]
    }
   ],
   "source": [
    "# reveal.py\n",
    "\n",
    "\n",
    "import math\n",
    "\n",
    "reveal_type(math.pi)\n",
    "\n",
    "radius = 1\n",
    "circumference = 2 * math.pi * radius\n",
    "\n",
    "reveal_locals()"
   ]
  },
  {
   "cell_type": "code",
   "execution_count": 9,
   "id": "eccaed00-3e12-413e-a099-f9257e1e9da6",
   "metadata": {},
   "outputs": [
    {
     "name": "stdout",
     "output_type": "stream",
     "text": [
      "reveal.py:3: \u001b[94mnote:\u001b[0m Revealed type is \u001b[0m\u001b[1m\"builtins.float\"\u001b[0m\u001b[0m\n",
      "reveal.py:10: \u001b[94mnote:\u001b[0m Revealed local types are:\u001b[0m\n",
      "reveal.py:10: \u001b[94mnote:\u001b[0m     circumference: builtins.float\u001b[0m\n",
      "reveal.py:10: \u001b[94mnote:\u001b[0m     radius: builtins.int\u001b[0m\n",
      "\u001b[1m\u001b[92mSuccess: no issues found in 1 source file\u001b[0m\n"
     ]
    }
   ],
   "source": [
    "!mypy reveal.py"
   ]
  },
  {
   "cell_type": "markdown",
   "id": "9701ee86-d8bf-4222-a88c-63f4221331bf",
   "metadata": {},
   "source": [
    "### Adnotacje Zmiennych"
   ]
  },
  {
   "cell_type": "code",
   "execution_count": 10,
   "id": "42a6cca7-98ea-4e6c-9aa1-3bfdb592b33c",
   "metadata": {},
   "outputs": [],
   "source": [
    "pi: float = 3.142\n",
    "\n",
    "def circumference(radius: float) -> float:\n",
    "    return 2 * pi * radius\n",
    "\n"
   ]
  },
  {
   "cell_type": "code",
   "execution_count": 11,
   "id": "a07e39d2-b8bf-4777-bbc2-762046119536",
   "metadata": {},
   "outputs": [
    {
     "data": {
      "text/plain": [
       "6.284"
      ]
     },
     "execution_count": 11,
     "metadata": {},
     "output_type": "execute_result"
    }
   ],
   "source": [
    "circumference(1)"
   ]
  },
  {
   "cell_type": "code",
   "execution_count": 12,
   "id": "ef61d282-1cf2-491f-bbf6-739c23b6bade",
   "metadata": {},
   "outputs": [
    {
     "data": {
      "text/plain": [
       "{'pi': float}"
      ]
     },
     "execution_count": 12,
     "metadata": {},
     "output_type": "execute_result"
    }
   ],
   "source": [
    "__annotations__"
   ]
  },
  {
   "cell_type": "code",
   "execution_count": 13,
   "id": "e166fc31-ebcc-4bc8-8d96-6453fa2dc782",
   "metadata": {},
   "outputs": [],
   "source": [
    "nothing: str\n",
    "# nothing nie jest zdefiniowany, ale zaadnotowaliśmy mu typ stringa"
   ]
  },
  {
   "cell_type": "code",
   "execution_count": 14,
   "id": "fb81f830-c660-4776-80f9-baf19fe1f253",
   "metadata": {},
   "outputs": [
    {
     "data": {
      "text/plain": [
       "{'pi': float, 'nothing': str}"
      ]
     },
     "execution_count": 14,
     "metadata": {},
     "output_type": "execute_result"
    }
   ],
   "source": [
    "__annotations__"
   ]
  },
  {
   "cell_type": "markdown",
   "id": "be197e9d-8f91-448c-bb72-fccc2ce5fe71",
   "metadata": {},
   "source": [
    "### Type Comments"
   ]
  },
  {
   "cell_type": "markdown",
   "id": "9e30c68d-a080-4bbb-ab1c-fecb10e47254",
   "metadata": {},
   "source": [
    "Starsze wersje pythona (przed wersją 3.0) nie miały zaimplementowanych adnotacji typów, zamiast nich można było skorzystać z komentarzy typów, które MyPy również rozumie."
   ]
  },
  {
   "cell_type": "markdown",
   "id": "ace5dff3-4761-4a55-9b9a-f499397d1506",
   "metadata": {},
   "source": [
    "Oto przykłady:"
   ]
  },
  {
   "cell_type": "code",
   "execution_count": 33,
   "id": "2cb0c9bb-f918-41c8-9af8-bd6fe1e66b94",
   "metadata": {},
   "outputs": [],
   "source": [
    "pi = 3.142  # type: float"
   ]
  },
  {
   "cell_type": "code",
   "execution_count": 20,
   "id": "83c39f79-8ca7-4708-a50c-72361bb488b6",
   "metadata": {},
   "outputs": [
    {
     "name": "stdout",
     "output_type": "stream",
     "text": [
      "---------- Type Comments Work ----------\n"
     ]
    }
   ],
   "source": [
    "# headline.py\n",
    "\n",
    "\n",
    "def headline(\n",
    "\n",
    "    text,           # type: str\n",
    "    width=80,       # type: int\n",
    "    fill_char=\"-\",  # type: str\n",
    "):                  # type: (...) -> str\n",
    "\n",
    "    return f\" {text.title()} \".center(width, fill_char)\n",
    "\n",
    "\n",
    "print(headline(\"type comments work\", width=40))"
   ]
  },
  {
   "cell_type": "code",
   "execution_count": 21,
   "id": "7d7e244f-da84-421c-8ae9-1949ee8c93ca",
   "metadata": {},
   "outputs": [
    {
     "name": "stdout",
     "output_type": "stream",
     "text": [
      "\u001b[1m\u001b[92mSuccess: no issues found in 1 source file\u001b[0m\n"
     ]
    }
   ],
   "source": [
    "!mypy headline.py"
   ]
  },
  {
   "cell_type": "markdown",
   "id": "ca813ec1-ff05-4695-8fb8-072cf056df23",
   "metadata": {},
   "source": [
    "## Adnotacje typów na przykładach"
   ]
  },
  {
   "cell_type": "markdown",
   "id": "fbb6ea84-0573-41e2-bd4c-64e32392cfba",
   "metadata": {},
   "source": [
    "Teraz spróbujemy określić typy między innymi: krotek, list, słowników, aliasów. Wykorzystamy do tego prosta grę karciana."
   ]
  },
  {
   "cell_type": "code",
   "execution_count": 2,
   "id": "8042099c-5240-402d-be02-98ef9c17372b",
   "metadata": {},
   "outputs": [
    {
     "name": "stdout",
     "output_type": "stream",
     "text": [
      "P1: ♡Q ♣Q ♣7 ♣A ♠K ♣6 ♠A ♣3 ♡9 ♢5 ♠6 ♡3 ♢Q\n",
      "P2: ♡4 ♣J ♡A ♠2 ♢6 ♡7 ♢4 ♠10 ♣8 ♣9 ♣10 ♢3 ♢10\n",
      "P3: ♢J ♡10 ♡K ♡J ♠9 ♢9 ♡2 ♠8 ♢A ♠J ♣K ♡5 ♣5\n",
      "P4: ♠3 ♢2 ♠Q ♢K ♠4 ♣4 ♣2 ♠5 ♢7 ♡6 ♢8 ♡8 ♠7\n"
     ]
    }
   ],
   "source": [
    "# game.py\n",
    "\n",
    "import random\n",
    "\n",
    "SUITS = \"♠ ♡ ♢ ♣\".split()                                   # split rozdziela string i tworzy listę\n",
    "RANKS = \"2 3 4 5 6 7 8 9 10 J Q K A\".split()\n",
    "\n",
    "def create_deck(shuffle=False):\n",
    "    \"\"\"Create a new deck of 52 cards\"\"\"\n",
    "    deck = [(s, r) for r in RANKS for s in SUITS]            # deck to lista krotek (kolor, wartość); używamy \"list comprehension\"\n",
    "    if shuffle:\n",
    "        random.shuffle(deck)\n",
    "    return deck                                              # zwracamy cała talię kart jako jedna długa listę\n",
    "\n",
    "def deal_hands(deck):\n",
    "    \"\"\"Deal the cards in the deck into four hands\"\"\"\n",
    "    return (deck[0::4], deck[1::4], deck[2::4], deck[3::4])  # funkcja dzieli talię na cztery części za pomoca \"slice\" i zwraca krotkę\n",
    "\n",
    "def play():\n",
    "    \"\"\"Play a 4-player card game\"\"\"\n",
    "    deck = create_deck(shuffle=True)\n",
    "    names = \"P1 P2 P3 P4\".split()\n",
    "    hands = {n: h for n, h in zip(names, deal_hands(deck))}\n",
    "\n",
    "    for name, cards in hands.items():\n",
    "        card_str = \" \".join(f\"{s}{r}\" for (s, r) in cards)\n",
    "        print(f\"{name}: {card_str}\")\n",
    "\n",
    "if __name__ == \"__main__\":\n",
    "    play()"
   ]
  },
  {
   "cell_type": "markdown",
   "id": "052e8c88-03d2-4ee1-bb7c-eebdbf934585",
   "metadata": {},
   "source": [
    "Chcemy teraz dodać wskazówki dotyczace typów do naszej gry karcianej. Najpierw przyjrzyjmy się nieco łatwiejszemu przykładowi:"
   ]
  },
  {
   "cell_type": "code",
   "execution_count": 3,
   "id": "84ac6bf8-d2b8-4370-be53-e81b79d002e8",
   "metadata": {},
   "outputs": [],
   "source": [
    "names: list = [\"Guido\", \"Jukka\", \"Ivan\"]\n",
    "version: tuple = (3, 7, 1)\n",
    "options: dict = {\"centered\": False, \"capitalize\": True}"
   ]
  },
  {
   "cell_type": "markdown",
   "id": "910a56c1-277f-48b0-b23e-f8ee503dd0fb",
   "metadata": {},
   "source": [
    "Moduł typing umożliwia określanie typów zmiennych w sposób bardziej szczegółowy. Na przykład teraz wiemy, że lista składa się ze stringów."
   ]
  },
  {
   "cell_type": "code",
   "execution_count": 25,
   "id": "f0520410-3d01-4e33-812e-c9dd931a7888",
   "metadata": {},
   "outputs": [],
   "source": [
    "from typing import Dict, List, Tuple\n",
    "\n",
    "names: List[str] = [\"Guido\", \"Jukka\", \"Ivan\"]\n",
    "version: Tuple[int, int, int] = (3, 7, 1)\n",
    "options: Dict[str, bool] = {\"centered\": False, \"capitalize\": True}"
   ]
  },
  {
   "cell_type": "markdown",
   "id": "c6269fb8-4926-4a3a-908c-1ca60309fe10",
   "metadata": {},
   "source": [
    "Spróbujmy teraz zastosować ta wiedzę w naszej grze:"
   ]
  },
  {
   "cell_type": "code",
   "execution_count": 6,
   "id": "4bfb1f78-1776-4088-9d62-fd63841ea40b",
   "metadata": {},
   "outputs": [],
   "source": [
    "def create_deck(shuffle: bool = False) -> List[Tuple[str, str]]:\n",
    "    \"\"\"Create a new deck of 52 cards\"\"\"\n",
    "    deck = [(s, r) for r in RANKS for s in SUITS]\n",
    "    if shuffle:\n",
    "        random.shuffle(deck)\n",
    "    return deck"
   ]
  },
  {
   "cell_type": "markdown",
   "id": "94602877-5dd7-4c02-92f4-3ae5f6eb099e",
   "metadata": {},
   "source": [
    "Zazwyczaj funkcje będa oczekiwały jakiejś formy sekwencji i nie będzie miało znaczenia, czy to lista, czy krotka. W takim przypadku możemy użyć metody typing:"
   ]
  },
  {
   "cell_type": "code",
   "execution_count": 8,
   "id": "08460211-3a10-41ee-8698-fbb690b40d41",
   "metadata": {},
   "outputs": [],
   "source": [
    "from typing import List, Sequence\n",
    "\n",
    "def square(elems: Sequence[float]) -> List[float]:\n",
    "    return [x**2 for x in elems]"
   ]
  },
  {
   "cell_type": "markdown",
   "id": "27827a82-fe70-4137-ab8d-4aae8d31f42c",
   "metadata": {},
   "source": [
    "### Typy Aliasów"
   ]
  },
  {
   "cell_type": "markdown",
   "id": "26f77d43-d4ae-4761-8105-8cae405e3ab7",
   "metadata": {},
   "source": [
    "Gdybyśmy chcieli zrobić to samo dla funkcji deal_hands wyglądałoby to tak:"
   ]
  },
  {
   "cell_type": "code",
   "execution_count": 10,
   "id": "58ef2604-4ff3-43c0-9d2f-6ff851db2b67",
   "metadata": {},
   "outputs": [],
   "source": [
    "def deal_hands(\n",
    "    deck: List[Tuple[str, str]]\n",
    ") -> Tuple[\n",
    "    List[Tuple[str, str]],\n",
    "    List[Tuple[str, str]],\n",
    "    List[Tuple[str, str]],\n",
    "    List[Tuple[str, str]],\n",
    "]:\n",
    "    \"\"\"Deal the cards in the deck into four hands\"\"\"\n",
    "    return (deck[0::4], deck[1::4], deck[2::4], deck[3::4])"
   ]
  },
  {
   "cell_type": "markdown",
   "id": "dfb19591-9fc1-4f92-a3de-17ae12417101",
   "metadata": {},
   "source": [
    "Zamiast tego zdefinujemu własne aliasy typów:"
   ]
  },
  {
   "cell_type": "code",
   "execution_count": 11,
   "id": "8573b54f-2c9a-4ca4-8006-e9993505a539",
   "metadata": {},
   "outputs": [],
   "source": [
    "from typing import List, Tuple\n",
    "\n",
    "Card = Tuple[str, str]\n",
    "Deck = List[Card]"
   ]
  },
  {
   "cell_type": "markdown",
   "id": "41691829-1d46-4891-9859-3c6822a006ee",
   "metadata": {},
   "source": [
    "I użyjemy ich do adnotacji funkcji deal_hands:"
   ]
  },
  {
   "cell_type": "code",
   "execution_count": 12,
   "id": "8ae7e43e-48f0-451e-a69d-2775f92e5736",
   "metadata": {},
   "outputs": [],
   "source": [
    "def deal_hands(deck: Deck) -> Tuple[Deck, Deck, Deck, Deck]:\n",
    "    \"\"\"Deal the cards in the deck into four hands\"\"\"\n",
    "    return (deck[0::4], deck[1::4], deck[2::4], deck[3::4])"
   ]
  },
  {
   "cell_type": "markdown",
   "id": "a4e1149c-c35a-4bd0-a484-19394ee74b24",
   "metadata": {},
   "source": [
    "### LET'S PLAY SOME CARDS"
   ]
  },
  {
   "cell_type": "code",
   "execution_count": 28,
   "id": "88c83330-1978-47e5-bbbe-08c8507434a0",
   "metadata": {},
   "outputs": [
    {
     "name": "stdout",
     "output_type": "stream",
     "text": [
      "P2: ♢10  P3: ♢6   P4: ♢4   P1: ♡8   \n",
      "P2: ♢9   P3: ♣10  P4: ♢J   P1: ♠10  \n",
      "P2: ♠4   P3: ♠J   P4: ♣A   P1: ♡Q   \n",
      "P2: ♣J   P3: ♢8   P4: ♡9   P1: ♡5   \n",
      "P2: ♡3   P3: ♠8   P4: ♠K   P1: ♠2   \n",
      "P2: ♠3   P3: ♣9   P4: ♡2   P1: ♣5   \n",
      "P2: ♢7   P3: ♠5   P4: ♣8   P1: ♣3   \n",
      "P2: ♢2   P3: ♡6   P4: ♡K   P1: ♣4   \n",
      "P2: ♡J   P3: ♠Q   P4: ♣Q   P1: ♠A   \n",
      "P2: ♢A   P3: ♠6   P4: ♡7   P1: ♠9   \n",
      "P2: ♣K   P3: ♣7   P4: ♡10  P1: ♢K   \n",
      "P2: ♢Q   P3: ♣2   P4: ♡4   P1: ♣6   \n",
      "P2: ♡A   P3: ♢5   P4: ♢3   P1: ♠7   \n"
     ]
    }
   ],
   "source": [
    "# game.py\n",
    "\n",
    "import random\n",
    "from typing import List, Tuple\n",
    "\n",
    "SUITS = \"♠ ♡ ♢ ♣\".split()\n",
    "RANKS = \"2 3 4 5 6 7 8 9 10 J Q K A\".split()\n",
    "\n",
    "Card = Tuple[str, str]\n",
    "Deck = List[Card]\n",
    "\n",
    "def create_deck(shuffle: bool = False) -> Deck:\n",
    "    \"\"\"Create a new deck of 52 cards\"\"\"\n",
    "    deck = [(s, r) for r in RANKS for s in SUITS]\n",
    "    if shuffle:\n",
    "        random.shuffle(deck)\n",
    "    return deck\n",
    "\n",
    "def deal_hands(deck: Deck) -> Tuple[Deck, Deck, Deck, Deck]:\n",
    "    \"\"\"Deal the cards in the deck into four hands\"\"\"\n",
    "    return (deck[0::4], deck[1::4], deck[2::4], deck[3::4])\n",
    "\n",
    "def choose(items): # nowa funkcja wybierajaca randomowo jeden element z listy\n",
    "    \"\"\"Choose and return a random item\"\"\"\n",
    "    return random.choice(items)\n",
    "\n",
    "def player_order(names, start=None): # nowa funkcja, która ustala kolejność graczy\n",
    "    \"\"\"Rotate player order so that start goes first\"\"\"\n",
    "    if start is None:\n",
    "        start = choose(names)\n",
    "    start_idx = names.index(start)\n",
    "    return names[start_idx:] + names[:start_idx]\n",
    "\n",
    "def play() -> None:\n",
    "    \"\"\"Play a 4-player card game\"\"\"\n",
    "    deck = create_deck(shuffle=True)\n",
    "    names = \"P1 P2 P3 P4\".split()\n",
    "    hands = {n: h for n, h in zip(names, deal_hands(deck))}\n",
    "    start_player = choose(names)\n",
    "    turn_order = player_order(names, start=start_player)\n",
    "\n",
    "    # Randomly play cards from each player's hand until empty\n",
    "    while hands[start_player]:\n",
    "        for name in turn_order:\n",
    "            card = choose(hands[name])\n",
    "            hands[name].remove(card)\n",
    "            print(f\"{name}: {card[0] + card[1]:<3}  \", end=\"\")\n",
    "        print()\n",
    "\n",
    "if __name__ == \"__main__\":\n",
    "    play()"
   ]
  },
  {
   "cell_type": "markdown",
   "id": "9bfc82ff-dd13-4dba-b3bb-9c970d0e1f4a",
   "metadata": {},
   "source": [
    "### Trochę o funkcji choose()"
   ]
  },
  {
   "cell_type": "code",
   "execution_count": 14,
   "id": "7737ad80-c9f0-4cec-8059-f15202a7d95b",
   "metadata": {},
   "outputs": [],
   "source": [
    "import random\n",
    "from typing import Any, Sequence\n",
    "\n",
    "def choose(items: Sequence[Any]) -> Any:\n",
    "    return random.choice(items)"
   ]
  },
  {
   "cell_type": "markdown",
   "id": "18ff9cda-4991-4240-b8df-217106fdc15c",
   "metadata": {},
   "source": [
    "To znaczy: \"items\" to sekwencja, która może zawierać elementy dowolnego typu, a funkcja Choose() zwróci jeden taki element dowolnego typu."
   ]
  },
  {
   "cell_type": "code",
   "execution_count": 22,
   "id": "0809b9a2-2bae-4087-ba16-ff6b4fef044c",
   "metadata": {},
   "outputs": [
    {
     "ename": "NameError",
     "evalue": "name 'reveal_type' is not defined",
     "output_type": "error",
     "traceback": [
      "\u001b[1;31m---------------------------------------------------------------------------\u001b[0m",
      "\u001b[1;31mNameError\u001b[0m                                 Traceback (most recent call last)",
      "Cell \u001b[1;32mIn[22], line 12\u001b[0m\n\u001b[0;32m      8\u001b[0m     \u001b[38;5;28;01mreturn\u001b[39;00m random\u001b[38;5;241m.\u001b[39mchoice(items)\n\u001b[0;32m     11\u001b[0m names \u001b[38;5;241m=\u001b[39m [\u001b[38;5;124m\"\u001b[39m\u001b[38;5;124mGuido\u001b[39m\u001b[38;5;124m\"\u001b[39m, \u001b[38;5;124m\"\u001b[39m\u001b[38;5;124mJukka\u001b[39m\u001b[38;5;124m\"\u001b[39m, \u001b[38;5;124m\"\u001b[39m\u001b[38;5;124mIvan\u001b[39m\u001b[38;5;124m\"\u001b[39m]\n\u001b[1;32m---> 12\u001b[0m \u001b[43mreveal_type\u001b[49m(names)\n\u001b[0;32m     14\u001b[0m name \u001b[38;5;241m=\u001b[39m choose(names)\n\u001b[0;32m     16\u001b[0m reveal_type(name)\n",
      "\u001b[1;31mNameError\u001b[0m: name 'reveal_type' is not defined"
     ]
    }
   ],
   "source": [
    "# choose.py\n",
    "\n",
    "\n",
    "import random\n",
    "from typing import Any, Sequence\n",
    "\n",
    "def choose(items: Sequence[Any]) -> Any:\n",
    "    return random.choice(items)\n",
    "\n",
    "\n",
    "names = [\"Guido\", \"Jukka\", \"Ivan\"]\n",
    "reveal_type(names)\n",
    "\n",
    "name = choose(names)\n",
    "\n",
    "reveal_type(name)"
   ]
  },
  {
   "cell_type": "code",
   "execution_count": 23,
   "id": "4e39f06c-26a9-40ff-8640-42256e02bf01",
   "metadata": {},
   "outputs": [
    {
     "name": "stdout",
     "output_type": "stream",
     "text": [
      "choose.py:16: \u001b[94mnote:\u001b[0m Revealed type is \u001b[0m\u001b[1m\"builtins.list[builtins.str]\"\u001b[0m\u001b[0m\n",
      "choose.py:21: \u001b[94mnote:\u001b[0m Revealed type is \u001b[0m\u001b[1m\"Any\"\u001b[0m\u001b[0m\n",
      "\u001b[1m\u001b[92mSuccess: no issues found in 1 source file\u001b[0m\n"
     ]
    }
   ],
   "source": [
    "!mypy choose.py"
   ]
  },
  {
   "cell_type": "code",
   "execution_count": null,
   "id": "8efeb39c-68b8-4aca-a6c8-48a6bc40c559",
   "metadata": {},
   "outputs": [],
   "source": []
  }
 ],
 "metadata": {
  "jupytext": {
   "formats": "ipynb,py:percent"
  },
  "kernelspec": {
   "display_name": "Python 3 (ipykernel)",
   "language": "python",
   "name": "python3"
  },
  "language_info": {
   "codemirror_mode": {
    "name": "ipython",
    "version": 3
   },
   "file_extension": ".py",
   "mimetype": "text/x-python",
   "name": "python",
   "nbconvert_exporter": "python",
   "pygments_lexer": "ipython3",
   "version": "3.12.2"
  }
 },
 "nbformat": 4,
 "nbformat_minor": 5
}
